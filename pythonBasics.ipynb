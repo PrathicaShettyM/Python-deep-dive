{
 "cells": [
  {
   "cell_type": "code",
   "execution_count": 1,
   "metadata": {},
   "outputs": [
    {
     "name": "stdout",
     "output_type": "stream",
     "text": [
      "Hello Python\n",
      "This is Jupyter Notebook\n",
      "This is the start of Python tutorial\n"
     ]
    }
   ],
   "source": [
    "print(\"Hello Python\")\n",
    "print(\"This is Jupyter Notebook\")\n",
    "print(\"This is the start of Python tutorial\")"
   ]
  },
  {
   "cell_type": "code",
   "execution_count": 3,
   "metadata": {},
   "outputs": [
    {
     "name": "stdout",
     "output_type": "stream",
     "text": [
      "Comments won't be visible\n"
     ]
    },
    {
     "data": {
      "text/plain": [
       "'This is a multiline\\ncomment'"
      ]
     },
     "execution_count": 3,
     "metadata": {},
     "output_type": "execute_result"
    }
   ],
   "source": [
    "##This is comments\n",
    "print(\"Comments won't be visible\")\n",
    "'''This is a multilinecomment'''"
   ]
  },
  {
   "cell_type": "code",
   "execution_count": 4,
   "metadata": {},
   "outputs": [
    {
     "data": {
      "text/plain": [
       "7"
      ]
     },
     "execution_count": 4,
     "metadata": {},
     "output_type": "execute_result"
    }
   ],
   "source": [
    "3+4"
   ]
  },
  {
   "cell_type": "code",
   "execution_count": 10,
   "metadata": {},
   "outputs": [
    {
     "name": "stdout",
     "output_type": "stream",
     "text": [
      "33\n",
      "a\n",
      "This is a string\n",
      "2.562\n",
      "True\n",
      "2.562 True\n"
     ]
    }
   ],
   "source": [
    "# declaring python variables\n",
    "\n",
    "# integer\n",
    "x = 10\n",
    "y = 23\n",
    "sum = x + y\n",
    "print(sum)\n",
    "\n",
    "# char\n",
    "ch = 'a'\n",
    "str = \"This is a string\"\n",
    "print(ch)\n",
    "print(str)\n",
    "\n",
    "# float\n",
    "dec_num = 2.562\n",
    "print(dec_num)\n",
    "\n",
    "# bool\n",
    "bool_val = True\n",
    "print(bool_val)\n",
    "\n",
    "print(dec_num, bool_val)"
   ]
  },
  {
   "cell_type": "code",
   "execution_count": 20,
   "metadata": {},
   "outputs": [
    {
     "name": "stdout",
     "output_type": "stream",
     "text": [
      "<class 'int'>\n",
      "<class 'str'>\n",
      "<class 'float'>\n",
      "<class 'bool'>\n"
     ]
    }
   ],
   "source": [
    "# type() method\n",
    "x = 17\n",
    "y = \"IronMan\"\n",
    "z = 95.474\n",
    "a = True\n",
    "print(type(x))\n",
    "print(type(y))\n",
    "print(type(z))\n",
    "print(type(a))"
   ]
  },
  {
   "cell_type": "code",
   "execution_count": 19,
   "metadata": {},
   "outputs": [
    {
     "name": "stdout",
     "output_type": "stream",
     "text": [
      "I am IronMan and I have travelled 17 countries\n",
      "I have 95.474 % battery and it is True\n",
      "Now I am charged to 98.949 % battery\n",
      "17 ~ IronMan ~ 95.474 ~ True\n"
     ]
    }
   ],
   "source": [
    "x = 17\n",
    "y = \"IronMan\"\n",
    "z = 95.474\n",
    "a = True\n",
    "\n",
    "# we can't concat integers, so give a comma operator instead\n",
    "print(\"I am \" + y + \" and I have travelled\",x, \"countries\")\n",
    "print(\"I have\", z, \"% battery and it is\", a)\n",
    "print(\"Now I am charged to\", z+3.475, \"% battery\")\n",
    "\n",
    "# print with the separator\n",
    "print(x, y, z, a, sep=\" ~ \")"
   ]
  },
  {
   "cell_type": "code",
   "execution_count": 24,
   "metadata": {},
   "outputs": [
    {
     "name": "stdout",
     "output_type": "stream",
     "text": [
      "single quote string\n"
     ]
    },
    {
     "data": {
      "text/plain": [
       "'Python Datatypes\\n 1. Numeric \\n i. Integer    ii. Float   iii. Complex Numbers\\n 2. Dictionary(JS objects)\\n 3. Boolean\\n 4. Set\\n 5. Sequence type\\n i. Strings    ii. Lists(arrays)   iii. Tuples((1,2,3,4))'"
      ]
     },
     "execution_count": 24,
     "metadata": {},
     "output_type": "execute_result"
    }
   ],
   "source": [
    "print('single quote string')\n",
    "\n",
    "'''Python Datatypes\n",
    " 1. Numeric \n",
    " i. Integer    ii. Float   iii. Complex Numbers\n",
    " 2. Dictionary(JS objects)\n",
    " 3. Boolean\n",
    " 4. Set ( unordered collection of unique items )\n",
    " 5. Sequence type\n",
    " i. Strings    ii. Lists(arrays)   iii. Tuples((1,2,3,4))\n",
    " 6. None (NULL)'''"
   ]
  },
  {
   "cell_type": "code",
   "execution_count": 26,
   "metadata": {},
   "outputs": [
    {
     "name": "stdout",
     "output_type": "stream",
     "text": [
      "97\n",
      "A\n"
     ]
    }
   ],
   "source": [
    "# some in-built functions\n",
    "\n",
    "# ord() : print ascii values of characters\n",
    "ch = 'a'\n",
    "print(ord(ch))\n",
    "\n",
    "# chr() : print character for the ascii value\n",
    "ch2 = 65\n",
    "print(chr(ch2))"
   ]
  },
  {
   "cell_type": "code",
   "execution_count": null,
   "metadata": {},
   "outputs": [],
   "source": []
  }
 ],
 "metadata": {
  "kernelspec": {
   "display_name": "Python 3",
   "language": "python",
   "name": "python3"
  },
  "language_info": {
   "codemirror_mode": {
    "name": "ipython",
    "version": 3
   },
   "file_extension": ".py",
   "mimetype": "text/x-python",
   "name": "python",
   "nbconvert_exporter": "python",
   "pygments_lexer": "ipython3",
   "version": "3.11.0"
  }
 },
 "nbformat": 4,
 "nbformat_minor": 2
}
